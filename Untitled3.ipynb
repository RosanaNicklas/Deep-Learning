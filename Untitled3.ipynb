{
 "cells": [
  {
   "cell_type": "code",
   "execution_count": null,
   "id": "7ceab069",
   "metadata": {},
   "outputs": [],
   "source": [
    "# Importing the Keras libraries and packages\n",
    "from\n",
    "tensorflow\n",
    ".\n",
    "keras\n",
    ".\n",
    "layers\n",
    "import\n",
    "Convolution2D\n",
    "from\n",
    "tensorflow\n",
    ".\n",
    "keras\n",
    ".\n",
    "layers\n",
    "import\n",
    "MaxPooling2D\n",
    "from\n",
    "tensorflow\n",
    ".\n",
    "keras\n",
    ".\n",
    "layers\n",
    "import\n",
    "Flatten\n",
    "import\n",
    "tensorflow\n",
    "as\n",
    "tf\n",
    "from\n",
    "tensorflow\n",
    ".\n",
    "keras\n",
    "import\n",
    "Sequential\n",
    "from\n",
    "tensorflow\n",
    ".\n",
    "keras\n",
    ".\n",
    "layers\n",
    "import\n",
    "Dense"
   ]
  }
 ],
 "metadata": {
  "kernelspec": {
   "display_name": "Python 3 (ipykernel)",
   "language": "python",
   "name": "python3"
  },
  "language_info": {
   "codemirror_mode": {
    "name": "ipython",
    "version": 3
   },
   "file_extension": ".py",
   "mimetype": "text/x-python",
   "name": "python",
   "nbconvert_exporter": "python",
   "pygments_lexer": "ipython3",
   "version": "3.8.10"
  }
 },
 "nbformat": 4,
 "nbformat_minor": 5
}
